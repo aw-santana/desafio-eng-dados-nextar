{
 "cells": [
  {
   "cell_type": "code",
   "execution_count": 20,
   "id": "1647324a",
   "metadata": {},
   "outputs": [
    {
     "data": {
      "text/plain": [
       "'https://engenheiro-dados-dados-teste.s3.sa-east-1.amazonaws.com/municipios.csv'"
      ]
     },
     "execution_count": 20,
     "metadata": {},
     "output_type": "execute_result"
    }
   ],
   "source": [
    "# Bibliotecas\n",
    "import pandas as pd\n",
    "from tabulate import tabulate\n",
    "\n",
    "#URLs\n",
    "# url = \"https://engenheiro-dados-dados-teste.s3.sa-east-1.amazonaws.com/empresas.csv\"\n",
    "url_municipios = \"https://engenheiro-dados-dados-teste.s3.sa-east-1.amazonaws.com/municipios.csv\"\n",
    "url_municipios\n"
   ]
  },
  {
   "cell_type": "code",
   "execution_count": 28,
   "id": "27bc9100",
   "metadata": {},
   "outputs": [
    {
     "name": "stdout",
     "output_type": "stream",
     "text": [
      "+----+--------------------------------------------------------------------------------------------------------------------------------------------------------------------------------------------------------------+\n",
      "|    | <?xml version=\"1.0\" encoding=\"UTF-8\"?>                                                                                                                                                                       |\n",
      "|----+--------------------------------------------------------------------------------------------------------------------------------------------------------------------------------------------------------------|\n",
      "|  0 | <Error><Code>AccessDenied</Code><Message>Access Denied</Message><RequestId>33P7683MEMNHWGGT</RequestId><HostId>Ii8eOJK1hlppquHoIbZ/5iDKD1rOgRx58qIGGbDWJKnd0W09CDvY8bUSPwjFdfsFwBimGud2dF0=</HostId></Error> |\n",
      "+----+--------------------------------------------------------------------------------------------------------------------------------------------------------------------------------------------------------------+\n"
     ]
    }
   ],
   "source": [
    "# df_amostra1 = pd.read_csv(url_municipios, sep=';')\n",
    "df_municipios = pd.read_csv(\"municipios.csv\", sep=\";\", encoding=\"latin1\")\n",
    "print(tabulate(df_municipios.head(10), headers='keys', tablefmt=\"psql\"))"
   ]
  },
  {
   "cell_type": "code",
   "execution_count": 35,
   "id": "e00ef9d2",
   "metadata": {},
   "outputs": [
    {
     "name": "stdout",
     "output_type": "stream",
     "text": [
      "+----+--------+----------------+-----------------+-------+-----------+-------------------+----------------+------------------+-------+-----------+--------------+\n",
      "|    | 0      | 1              | 2               | 3     | 4         | 5                 | 6              | 7                | 8     | 9         | 10           |\n",
      "|----+--------+----------------+-----------------+-------+-----------+-------------------+----------------+------------------+-------+-----------+--------------|\n",
      "|  0 | [{\"id\" | 5208707,\"nome\" | Goiânia,\"nivel\" | {\"id\" | N6,\"nome\" | Município}},{\"id\" | 5300108,\"nome\" | Brasília,\"nivel\" | {\"id\" | N6,\"nome\" | Município}}] |\n",
      "+----+--------+----------------+-----------------+-------+-----------+-------------------+----------------+------------------+-------+-----------+--------------+\n"
     ]
    }
   ],
   "source": [
    "url = \"https://servicodados.ibge.gov.br/api/v3/agregados/1705/localidades/N6\"\n",
    "df_amostra13 = pd.read_csv(url, sep=':', header=None)\n",
    "print(tabulate(df_amostra13.head(10), headers='keys', tablefmt=\"psql\"))"
   ]
  },
  {
   "cell_type": "code",
   "execution_count": 22,
   "id": "0751861d",
   "metadata": {},
   "outputs": [],
   "source": [
    "import requests\n",
    "\n",
    "url = \"https://engenheiro-dados-dados-teste.s3.sa-east-1.amazonaws.com/municipios.csv\"\n",
    "with open(\"municipios.csv\", \"wb\") as f:\n",
    "    f.write(requests.get(url).content)"
   ]
  },
  {
   "cell_type": "code",
   "execution_count": 29,
   "id": "1568b97a",
   "metadata": {},
   "outputs": [
    {
     "ename": "HTTPError",
     "evalue": "HTTP Error 403: Forbidden",
     "output_type": "error",
     "traceback": [
      "\u001b[1;31m---------------------------------------------------------------------------\u001b[0m",
      "\u001b[1;31mHTTPError\u001b[0m                                 Traceback (most recent call last)",
      "Cell \u001b[1;32mIn[29], line 9\u001b[0m\n\u001b[0;32m      5\u001b[0m \u001b[38;5;66;03m#URLs\u001b[39;00m\n\u001b[0;32m      6\u001b[0m \u001b[38;5;66;03m# url = \"https://engenheiro-dados-dados-teste.s3.sa-east-1.amazonaws.com/empresas.csv\"\u001b[39;00m\n\u001b[0;32m      7\u001b[0m url_municipios \u001b[38;5;241m=\u001b[39m \u001b[38;5;124m\"\u001b[39m\u001b[38;5;124mhttps://engenheiro-dados-dados-teste.s3.sa-east-1.amazonaws.com/municipios.csv\u001b[39m\u001b[38;5;124m\"\u001b[39m\n\u001b[1;32m----> 9\u001b[0m df_amostra1 \u001b[38;5;241m=\u001b[39m \u001b[43mpd\u001b[49m\u001b[38;5;241;43m.\u001b[39;49m\u001b[43mread_csv\u001b[49m\u001b[43m(\u001b[49m\u001b[43murl_municipios\u001b[49m\u001b[43m,\u001b[49m\u001b[43m \u001b[49m\u001b[43msep\u001b[49m\u001b[38;5;241;43m=\u001b[39;49m\u001b[38;5;124;43m'\u001b[39;49m\u001b[38;5;124;43m;\u001b[39;49m\u001b[38;5;124;43m'\u001b[39;49m\u001b[43m,\u001b[49m\u001b[43m \u001b[49m\u001b[43mencoding\u001b[49m\u001b[38;5;241;43m=\u001b[39;49m\u001b[38;5;124;43m'\u001b[39;49m\u001b[38;5;124;43mlatin1\u001b[39;49m\u001b[38;5;124;43m'\u001b[39;49m\u001b[43m,\u001b[49m\u001b[43m \u001b[49m\u001b[43mdtype\u001b[49m\u001b[38;5;241;43m=\u001b[39;49m\u001b[38;5;28;43mstr\u001b[39;49m\u001b[43m,\u001b[49m\u001b[43m \u001b[49m\u001b[43mheader\u001b[49m\u001b[38;5;241;43m=\u001b[39;49m\u001b[38;5;28;43;01mNone\u001b[39;49;00m\u001b[43m,\u001b[49m\u001b[43m \u001b[49m\u001b[43mnrows\u001b[49m\u001b[38;5;241;43m=\u001b[39;49m\u001b[38;5;241;43m10_000\u001b[39;49m\u001b[43m)\u001b[49m\n\u001b[0;32m     10\u001b[0m \u001b[38;5;66;03m# df_amostra = pd.read_csv(url, sep=';', encoding='latin1', dtype=str, header=None, nrows=10_000)\u001b[39;00m\n\u001b[0;32m     12\u001b[0m \u001b[38;5;28mprint\u001b[39m(tabulate(df_amostra1\u001b[38;5;241m.\u001b[39mhead(\u001b[38;5;241m10\u001b[39m), headers\u001b[38;5;241m=\u001b[39m\u001b[38;5;124m'\u001b[39m\u001b[38;5;124mkeys\u001b[39m\u001b[38;5;124m'\u001b[39m, tablefmt\u001b[38;5;241m=\u001b[39m\u001b[38;5;124m\"\u001b[39m\u001b[38;5;124mpsql\u001b[39m\u001b[38;5;124m\"\u001b[39m))\n",
      "File \u001b[1;32mc:\\Users\\Amim Santana\\AppData\\Local\\Programs\\Python\\Python310\\lib\\site-packages\\pandas\\io\\parsers\\readers.py:1026\u001b[0m, in \u001b[0;36mread_csv\u001b[1;34m(filepath_or_buffer, sep, delimiter, header, names, index_col, usecols, dtype, engine, converters, true_values, false_values, skipinitialspace, skiprows, skipfooter, nrows, na_values, keep_default_na, na_filter, verbose, skip_blank_lines, parse_dates, infer_datetime_format, keep_date_col, date_parser, date_format, dayfirst, cache_dates, iterator, chunksize, compression, thousands, decimal, lineterminator, quotechar, quoting, doublequote, escapechar, comment, encoding, encoding_errors, dialect, on_bad_lines, delim_whitespace, low_memory, memory_map, float_precision, storage_options, dtype_backend)\u001b[0m\n\u001b[0;32m   1013\u001b[0m kwds_defaults \u001b[38;5;241m=\u001b[39m _refine_defaults_read(\n\u001b[0;32m   1014\u001b[0m     dialect,\n\u001b[0;32m   1015\u001b[0m     delimiter,\n\u001b[1;32m   (...)\u001b[0m\n\u001b[0;32m   1022\u001b[0m     dtype_backend\u001b[38;5;241m=\u001b[39mdtype_backend,\n\u001b[0;32m   1023\u001b[0m )\n\u001b[0;32m   1024\u001b[0m kwds\u001b[38;5;241m.\u001b[39mupdate(kwds_defaults)\n\u001b[1;32m-> 1026\u001b[0m \u001b[38;5;28;01mreturn\u001b[39;00m \u001b[43m_read\u001b[49m\u001b[43m(\u001b[49m\u001b[43mfilepath_or_buffer\u001b[49m\u001b[43m,\u001b[49m\u001b[43m \u001b[49m\u001b[43mkwds\u001b[49m\u001b[43m)\u001b[49m\n",
      "File \u001b[1;32mc:\\Users\\Amim Santana\\AppData\\Local\\Programs\\Python\\Python310\\lib\\site-packages\\pandas\\io\\parsers\\readers.py:620\u001b[0m, in \u001b[0;36m_read\u001b[1;34m(filepath_or_buffer, kwds)\u001b[0m\n\u001b[0;32m    617\u001b[0m _validate_names(kwds\u001b[38;5;241m.\u001b[39mget(\u001b[38;5;124m\"\u001b[39m\u001b[38;5;124mnames\u001b[39m\u001b[38;5;124m\"\u001b[39m, \u001b[38;5;28;01mNone\u001b[39;00m))\n\u001b[0;32m    619\u001b[0m \u001b[38;5;66;03m# Create the parser.\u001b[39;00m\n\u001b[1;32m--> 620\u001b[0m parser \u001b[38;5;241m=\u001b[39m TextFileReader(filepath_or_buffer, \u001b[38;5;241m*\u001b[39m\u001b[38;5;241m*\u001b[39mkwds)\n\u001b[0;32m    622\u001b[0m \u001b[38;5;28;01mif\u001b[39;00m chunksize \u001b[38;5;129;01mor\u001b[39;00m iterator:\n\u001b[0;32m    623\u001b[0m     \u001b[38;5;28;01mreturn\u001b[39;00m parser\n",
      "File \u001b[1;32mc:\\Users\\Amim Santana\\AppData\\Local\\Programs\\Python\\Python310\\lib\\site-packages\\pandas\\io\\parsers\\readers.py:1620\u001b[0m, in \u001b[0;36mTextFileReader.__init__\u001b[1;34m(self, f, engine, **kwds)\u001b[0m\n\u001b[0;32m   1617\u001b[0m     \u001b[38;5;28mself\u001b[39m\u001b[38;5;241m.\u001b[39moptions[\u001b[38;5;124m\"\u001b[39m\u001b[38;5;124mhas_index_names\u001b[39m\u001b[38;5;124m\"\u001b[39m] \u001b[38;5;241m=\u001b[39m kwds[\u001b[38;5;124m\"\u001b[39m\u001b[38;5;124mhas_index_names\u001b[39m\u001b[38;5;124m\"\u001b[39m]\n\u001b[0;32m   1619\u001b[0m \u001b[38;5;28mself\u001b[39m\u001b[38;5;241m.\u001b[39mhandles: IOHandles \u001b[38;5;241m|\u001b[39m \u001b[38;5;28;01mNone\u001b[39;00m \u001b[38;5;241m=\u001b[39m \u001b[38;5;28;01mNone\u001b[39;00m\n\u001b[1;32m-> 1620\u001b[0m \u001b[38;5;28mself\u001b[39m\u001b[38;5;241m.\u001b[39m_engine \u001b[38;5;241m=\u001b[39m \u001b[38;5;28;43mself\u001b[39;49m\u001b[38;5;241;43m.\u001b[39;49m\u001b[43m_make_engine\u001b[49m\u001b[43m(\u001b[49m\u001b[43mf\u001b[49m\u001b[43m,\u001b[49m\u001b[43m \u001b[49m\u001b[38;5;28;43mself\u001b[39;49m\u001b[38;5;241;43m.\u001b[39;49m\u001b[43mengine\u001b[49m\u001b[43m)\u001b[49m\n",
      "File \u001b[1;32mc:\\Users\\Amim Santana\\AppData\\Local\\Programs\\Python\\Python310\\lib\\site-packages\\pandas\\io\\parsers\\readers.py:1880\u001b[0m, in \u001b[0;36mTextFileReader._make_engine\u001b[1;34m(self, f, engine)\u001b[0m\n\u001b[0;32m   1878\u001b[0m     \u001b[38;5;28;01mif\u001b[39;00m \u001b[38;5;124m\"\u001b[39m\u001b[38;5;124mb\u001b[39m\u001b[38;5;124m\"\u001b[39m \u001b[38;5;129;01mnot\u001b[39;00m \u001b[38;5;129;01min\u001b[39;00m mode:\n\u001b[0;32m   1879\u001b[0m         mode \u001b[38;5;241m+\u001b[39m\u001b[38;5;241m=\u001b[39m \u001b[38;5;124m\"\u001b[39m\u001b[38;5;124mb\u001b[39m\u001b[38;5;124m\"\u001b[39m\n\u001b[1;32m-> 1880\u001b[0m \u001b[38;5;28mself\u001b[39m\u001b[38;5;241m.\u001b[39mhandles \u001b[38;5;241m=\u001b[39m \u001b[43mget_handle\u001b[49m\u001b[43m(\u001b[49m\n\u001b[0;32m   1881\u001b[0m \u001b[43m    \u001b[49m\u001b[43mf\u001b[49m\u001b[43m,\u001b[49m\n\u001b[0;32m   1882\u001b[0m \u001b[43m    \u001b[49m\u001b[43mmode\u001b[49m\u001b[43m,\u001b[49m\n\u001b[0;32m   1883\u001b[0m \u001b[43m    \u001b[49m\u001b[43mencoding\u001b[49m\u001b[38;5;241;43m=\u001b[39;49m\u001b[38;5;28;43mself\u001b[39;49m\u001b[38;5;241;43m.\u001b[39;49m\u001b[43moptions\u001b[49m\u001b[38;5;241;43m.\u001b[39;49m\u001b[43mget\u001b[49m\u001b[43m(\u001b[49m\u001b[38;5;124;43m\"\u001b[39;49m\u001b[38;5;124;43mencoding\u001b[39;49m\u001b[38;5;124;43m\"\u001b[39;49m\u001b[43m,\u001b[49m\u001b[43m \u001b[49m\u001b[38;5;28;43;01mNone\u001b[39;49;00m\u001b[43m)\u001b[49m\u001b[43m,\u001b[49m\n\u001b[0;32m   1884\u001b[0m \u001b[43m    \u001b[49m\u001b[43mcompression\u001b[49m\u001b[38;5;241;43m=\u001b[39;49m\u001b[38;5;28;43mself\u001b[39;49m\u001b[38;5;241;43m.\u001b[39;49m\u001b[43moptions\u001b[49m\u001b[38;5;241;43m.\u001b[39;49m\u001b[43mget\u001b[49m\u001b[43m(\u001b[49m\u001b[38;5;124;43m\"\u001b[39;49m\u001b[38;5;124;43mcompression\u001b[39;49m\u001b[38;5;124;43m\"\u001b[39;49m\u001b[43m,\u001b[49m\u001b[43m \u001b[49m\u001b[38;5;28;43;01mNone\u001b[39;49;00m\u001b[43m)\u001b[49m\u001b[43m,\u001b[49m\n\u001b[0;32m   1885\u001b[0m \u001b[43m    \u001b[49m\u001b[43mmemory_map\u001b[49m\u001b[38;5;241;43m=\u001b[39;49m\u001b[38;5;28;43mself\u001b[39;49m\u001b[38;5;241;43m.\u001b[39;49m\u001b[43moptions\u001b[49m\u001b[38;5;241;43m.\u001b[39;49m\u001b[43mget\u001b[49m\u001b[43m(\u001b[49m\u001b[38;5;124;43m\"\u001b[39;49m\u001b[38;5;124;43mmemory_map\u001b[39;49m\u001b[38;5;124;43m\"\u001b[39;49m\u001b[43m,\u001b[49m\u001b[43m \u001b[49m\u001b[38;5;28;43;01mFalse\u001b[39;49;00m\u001b[43m)\u001b[49m\u001b[43m,\u001b[49m\n\u001b[0;32m   1886\u001b[0m \u001b[43m    \u001b[49m\u001b[43mis_text\u001b[49m\u001b[38;5;241;43m=\u001b[39;49m\u001b[43mis_text\u001b[49m\u001b[43m,\u001b[49m\n\u001b[0;32m   1887\u001b[0m \u001b[43m    \u001b[49m\u001b[43merrors\u001b[49m\u001b[38;5;241;43m=\u001b[39;49m\u001b[38;5;28;43mself\u001b[39;49m\u001b[38;5;241;43m.\u001b[39;49m\u001b[43moptions\u001b[49m\u001b[38;5;241;43m.\u001b[39;49m\u001b[43mget\u001b[49m\u001b[43m(\u001b[49m\u001b[38;5;124;43m\"\u001b[39;49m\u001b[38;5;124;43mencoding_errors\u001b[39;49m\u001b[38;5;124;43m\"\u001b[39;49m\u001b[43m,\u001b[49m\u001b[43m \u001b[49m\u001b[38;5;124;43m\"\u001b[39;49m\u001b[38;5;124;43mstrict\u001b[39;49m\u001b[38;5;124;43m\"\u001b[39;49m\u001b[43m)\u001b[49m\u001b[43m,\u001b[49m\n\u001b[0;32m   1888\u001b[0m \u001b[43m    \u001b[49m\u001b[43mstorage_options\u001b[49m\u001b[38;5;241;43m=\u001b[39;49m\u001b[38;5;28;43mself\u001b[39;49m\u001b[38;5;241;43m.\u001b[39;49m\u001b[43moptions\u001b[49m\u001b[38;5;241;43m.\u001b[39;49m\u001b[43mget\u001b[49m\u001b[43m(\u001b[49m\u001b[38;5;124;43m\"\u001b[39;49m\u001b[38;5;124;43mstorage_options\u001b[39;49m\u001b[38;5;124;43m\"\u001b[39;49m\u001b[43m,\u001b[49m\u001b[43m \u001b[49m\u001b[38;5;28;43;01mNone\u001b[39;49;00m\u001b[43m)\u001b[49m\u001b[43m,\u001b[49m\n\u001b[0;32m   1889\u001b[0m \u001b[43m\u001b[49m\u001b[43m)\u001b[49m\n\u001b[0;32m   1890\u001b[0m \u001b[38;5;28;01massert\u001b[39;00m \u001b[38;5;28mself\u001b[39m\u001b[38;5;241m.\u001b[39mhandles \u001b[38;5;129;01mis\u001b[39;00m \u001b[38;5;129;01mnot\u001b[39;00m \u001b[38;5;28;01mNone\u001b[39;00m\n\u001b[0;32m   1891\u001b[0m f \u001b[38;5;241m=\u001b[39m \u001b[38;5;28mself\u001b[39m\u001b[38;5;241m.\u001b[39mhandles\u001b[38;5;241m.\u001b[39mhandle\n",
      "File \u001b[1;32mc:\\Users\\Amim Santana\\AppData\\Local\\Programs\\Python\\Python310\\lib\\site-packages\\pandas\\io\\common.py:728\u001b[0m, in \u001b[0;36mget_handle\u001b[1;34m(path_or_buf, mode, encoding, compression, memory_map, is_text, errors, storage_options)\u001b[0m\n\u001b[0;32m    725\u001b[0m     codecs\u001b[38;5;241m.\u001b[39mlookup_error(errors)\n\u001b[0;32m    727\u001b[0m \u001b[38;5;66;03m# open URLs\u001b[39;00m\n\u001b[1;32m--> 728\u001b[0m ioargs \u001b[38;5;241m=\u001b[39m \u001b[43m_get_filepath_or_buffer\u001b[49m\u001b[43m(\u001b[49m\n\u001b[0;32m    729\u001b[0m \u001b[43m    \u001b[49m\u001b[43mpath_or_buf\u001b[49m\u001b[43m,\u001b[49m\n\u001b[0;32m    730\u001b[0m \u001b[43m    \u001b[49m\u001b[43mencoding\u001b[49m\u001b[38;5;241;43m=\u001b[39;49m\u001b[43mencoding\u001b[49m\u001b[43m,\u001b[49m\n\u001b[0;32m    731\u001b[0m \u001b[43m    \u001b[49m\u001b[43mcompression\u001b[49m\u001b[38;5;241;43m=\u001b[39;49m\u001b[43mcompression\u001b[49m\u001b[43m,\u001b[49m\n\u001b[0;32m    732\u001b[0m \u001b[43m    \u001b[49m\u001b[43mmode\u001b[49m\u001b[38;5;241;43m=\u001b[39;49m\u001b[43mmode\u001b[49m\u001b[43m,\u001b[49m\n\u001b[0;32m    733\u001b[0m \u001b[43m    \u001b[49m\u001b[43mstorage_options\u001b[49m\u001b[38;5;241;43m=\u001b[39;49m\u001b[43mstorage_options\u001b[49m\u001b[43m,\u001b[49m\n\u001b[0;32m    734\u001b[0m \u001b[43m\u001b[49m\u001b[43m)\u001b[49m\n\u001b[0;32m    736\u001b[0m handle \u001b[38;5;241m=\u001b[39m ioargs\u001b[38;5;241m.\u001b[39mfilepath_or_buffer\n\u001b[0;32m    737\u001b[0m handles: \u001b[38;5;28mlist\u001b[39m[BaseBuffer]\n",
      "File \u001b[1;32mc:\\Users\\Amim Santana\\AppData\\Local\\Programs\\Python\\Python310\\lib\\site-packages\\pandas\\io\\common.py:384\u001b[0m, in \u001b[0;36m_get_filepath_or_buffer\u001b[1;34m(filepath_or_buffer, encoding, compression, mode, storage_options)\u001b[0m\n\u001b[0;32m    382\u001b[0m \u001b[38;5;66;03m# assuming storage_options is to be interpreted as headers\u001b[39;00m\n\u001b[0;32m    383\u001b[0m req_info \u001b[38;5;241m=\u001b[39m urllib\u001b[38;5;241m.\u001b[39mrequest\u001b[38;5;241m.\u001b[39mRequest(filepath_or_buffer, headers\u001b[38;5;241m=\u001b[39mstorage_options)\n\u001b[1;32m--> 384\u001b[0m \u001b[38;5;28;01mwith\u001b[39;00m \u001b[43murlopen\u001b[49m\u001b[43m(\u001b[49m\u001b[43mreq_info\u001b[49m\u001b[43m)\u001b[49m \u001b[38;5;28;01mas\u001b[39;00m req:\n\u001b[0;32m    385\u001b[0m     content_encoding \u001b[38;5;241m=\u001b[39m req\u001b[38;5;241m.\u001b[39mheaders\u001b[38;5;241m.\u001b[39mget(\u001b[38;5;124m\"\u001b[39m\u001b[38;5;124mContent-Encoding\u001b[39m\u001b[38;5;124m\"\u001b[39m, \u001b[38;5;28;01mNone\u001b[39;00m)\n\u001b[0;32m    386\u001b[0m     \u001b[38;5;28;01mif\u001b[39;00m content_encoding \u001b[38;5;241m==\u001b[39m \u001b[38;5;124m\"\u001b[39m\u001b[38;5;124mgzip\u001b[39m\u001b[38;5;124m\"\u001b[39m:\n\u001b[0;32m    387\u001b[0m         \u001b[38;5;66;03m# Override compression based on Content-Encoding header\u001b[39;00m\n",
      "File \u001b[1;32mc:\\Users\\Amim Santana\\AppData\\Local\\Programs\\Python\\Python310\\lib\\site-packages\\pandas\\io\\common.py:289\u001b[0m, in \u001b[0;36murlopen\u001b[1;34m(*args, **kwargs)\u001b[0m\n\u001b[0;32m    283\u001b[0m \u001b[38;5;250m\u001b[39m\u001b[38;5;124;03m\"\"\"\u001b[39;00m\n\u001b[0;32m    284\u001b[0m \u001b[38;5;124;03mLazy-import wrapper for stdlib urlopen, as that imports a big chunk of\u001b[39;00m\n\u001b[0;32m    285\u001b[0m \u001b[38;5;124;03mthe stdlib.\u001b[39;00m\n\u001b[0;32m    286\u001b[0m \u001b[38;5;124;03m\"\"\"\u001b[39;00m\n\u001b[0;32m    287\u001b[0m \u001b[38;5;28;01mimport\u001b[39;00m \u001b[38;5;21;01murllib\u001b[39;00m\u001b[38;5;21;01m.\u001b[39;00m\u001b[38;5;21;01mrequest\u001b[39;00m\n\u001b[1;32m--> 289\u001b[0m \u001b[38;5;28;01mreturn\u001b[39;00m urllib\u001b[38;5;241m.\u001b[39mrequest\u001b[38;5;241m.\u001b[39murlopen(\u001b[38;5;241m*\u001b[39margs, \u001b[38;5;241m*\u001b[39m\u001b[38;5;241m*\u001b[39mkwargs)\n",
      "File \u001b[1;32mc:\\Users\\Amim Santana\\AppData\\Local\\Programs\\Python\\Python310\\lib\\urllib\\request.py:216\u001b[0m, in \u001b[0;36murlopen\u001b[1;34m(url, data, timeout, cafile, capath, cadefault, context)\u001b[0m\n\u001b[0;32m    214\u001b[0m \u001b[38;5;28;01melse\u001b[39;00m:\n\u001b[0;32m    215\u001b[0m     opener \u001b[38;5;241m=\u001b[39m _opener\n\u001b[1;32m--> 216\u001b[0m \u001b[38;5;28;01mreturn\u001b[39;00m \u001b[43mopener\u001b[49m\u001b[38;5;241;43m.\u001b[39;49m\u001b[43mopen\u001b[49m\u001b[43m(\u001b[49m\u001b[43murl\u001b[49m\u001b[43m,\u001b[49m\u001b[43m \u001b[49m\u001b[43mdata\u001b[49m\u001b[43m,\u001b[49m\u001b[43m \u001b[49m\u001b[43mtimeout\u001b[49m\u001b[43m)\u001b[49m\n",
      "File \u001b[1;32mc:\\Users\\Amim Santana\\AppData\\Local\\Programs\\Python\\Python310\\lib\\urllib\\request.py:525\u001b[0m, in \u001b[0;36mOpenerDirector.open\u001b[1;34m(self, fullurl, data, timeout)\u001b[0m\n\u001b[0;32m    523\u001b[0m \u001b[38;5;28;01mfor\u001b[39;00m processor \u001b[38;5;129;01min\u001b[39;00m \u001b[38;5;28mself\u001b[39m\u001b[38;5;241m.\u001b[39mprocess_response\u001b[38;5;241m.\u001b[39mget(protocol, []):\n\u001b[0;32m    524\u001b[0m     meth \u001b[38;5;241m=\u001b[39m \u001b[38;5;28mgetattr\u001b[39m(processor, meth_name)\n\u001b[1;32m--> 525\u001b[0m     response \u001b[38;5;241m=\u001b[39m \u001b[43mmeth\u001b[49m\u001b[43m(\u001b[49m\u001b[43mreq\u001b[49m\u001b[43m,\u001b[49m\u001b[43m \u001b[49m\u001b[43mresponse\u001b[49m\u001b[43m)\u001b[49m\n\u001b[0;32m    527\u001b[0m \u001b[38;5;28;01mreturn\u001b[39;00m response\n",
      "File \u001b[1;32mc:\\Users\\Amim Santana\\AppData\\Local\\Programs\\Python\\Python310\\lib\\urllib\\request.py:634\u001b[0m, in \u001b[0;36mHTTPErrorProcessor.http_response\u001b[1;34m(self, request, response)\u001b[0m\n\u001b[0;32m    631\u001b[0m \u001b[38;5;66;03m# According to RFC 2616, \"2xx\" code indicates that the client's\u001b[39;00m\n\u001b[0;32m    632\u001b[0m \u001b[38;5;66;03m# request was successfully received, understood, and accepted.\u001b[39;00m\n\u001b[0;32m    633\u001b[0m \u001b[38;5;28;01mif\u001b[39;00m \u001b[38;5;129;01mnot\u001b[39;00m (\u001b[38;5;241m200\u001b[39m \u001b[38;5;241m<\u001b[39m\u001b[38;5;241m=\u001b[39m code \u001b[38;5;241m<\u001b[39m \u001b[38;5;241m300\u001b[39m):\n\u001b[1;32m--> 634\u001b[0m     response \u001b[38;5;241m=\u001b[39m \u001b[38;5;28;43mself\u001b[39;49m\u001b[38;5;241;43m.\u001b[39;49m\u001b[43mparent\u001b[49m\u001b[38;5;241;43m.\u001b[39;49m\u001b[43merror\u001b[49m\u001b[43m(\u001b[49m\n\u001b[0;32m    635\u001b[0m \u001b[43m        \u001b[49m\u001b[38;5;124;43m'\u001b[39;49m\u001b[38;5;124;43mhttp\u001b[39;49m\u001b[38;5;124;43m'\u001b[39;49m\u001b[43m,\u001b[49m\u001b[43m \u001b[49m\u001b[43mrequest\u001b[49m\u001b[43m,\u001b[49m\u001b[43m \u001b[49m\u001b[43mresponse\u001b[49m\u001b[43m,\u001b[49m\u001b[43m \u001b[49m\u001b[43mcode\u001b[49m\u001b[43m,\u001b[49m\u001b[43m \u001b[49m\u001b[43mmsg\u001b[49m\u001b[43m,\u001b[49m\u001b[43m \u001b[49m\u001b[43mhdrs\u001b[49m\u001b[43m)\u001b[49m\n\u001b[0;32m    637\u001b[0m \u001b[38;5;28;01mreturn\u001b[39;00m response\n",
      "File \u001b[1;32mc:\\Users\\Amim Santana\\AppData\\Local\\Programs\\Python\\Python310\\lib\\urllib\\request.py:563\u001b[0m, in \u001b[0;36mOpenerDirector.error\u001b[1;34m(self, proto, *args)\u001b[0m\n\u001b[0;32m    561\u001b[0m \u001b[38;5;28;01mif\u001b[39;00m http_err:\n\u001b[0;32m    562\u001b[0m     args \u001b[38;5;241m=\u001b[39m (\u001b[38;5;28mdict\u001b[39m, \u001b[38;5;124m'\u001b[39m\u001b[38;5;124mdefault\u001b[39m\u001b[38;5;124m'\u001b[39m, \u001b[38;5;124m'\u001b[39m\u001b[38;5;124mhttp_error_default\u001b[39m\u001b[38;5;124m'\u001b[39m) \u001b[38;5;241m+\u001b[39m orig_args\n\u001b[1;32m--> 563\u001b[0m     \u001b[38;5;28;01mreturn\u001b[39;00m \u001b[38;5;28;43mself\u001b[39;49m\u001b[38;5;241;43m.\u001b[39;49m\u001b[43m_call_chain\u001b[49m\u001b[43m(\u001b[49m\u001b[38;5;241;43m*\u001b[39;49m\u001b[43margs\u001b[49m\u001b[43m)\u001b[49m\n",
      "File \u001b[1;32mc:\\Users\\Amim Santana\\AppData\\Local\\Programs\\Python\\Python310\\lib\\urllib\\request.py:496\u001b[0m, in \u001b[0;36mOpenerDirector._call_chain\u001b[1;34m(self, chain, kind, meth_name, *args)\u001b[0m\n\u001b[0;32m    494\u001b[0m \u001b[38;5;28;01mfor\u001b[39;00m handler \u001b[38;5;129;01min\u001b[39;00m handlers:\n\u001b[0;32m    495\u001b[0m     func \u001b[38;5;241m=\u001b[39m \u001b[38;5;28mgetattr\u001b[39m(handler, meth_name)\n\u001b[1;32m--> 496\u001b[0m     result \u001b[38;5;241m=\u001b[39m \u001b[43mfunc\u001b[49m\u001b[43m(\u001b[49m\u001b[38;5;241;43m*\u001b[39;49m\u001b[43margs\u001b[49m\u001b[43m)\u001b[49m\n\u001b[0;32m    497\u001b[0m     \u001b[38;5;28;01mif\u001b[39;00m result \u001b[38;5;129;01mis\u001b[39;00m \u001b[38;5;129;01mnot\u001b[39;00m \u001b[38;5;28;01mNone\u001b[39;00m:\n\u001b[0;32m    498\u001b[0m         \u001b[38;5;28;01mreturn\u001b[39;00m result\n",
      "File \u001b[1;32mc:\\Users\\Amim Santana\\AppData\\Local\\Programs\\Python\\Python310\\lib\\urllib\\request.py:643\u001b[0m, in \u001b[0;36mHTTPDefaultErrorHandler.http_error_default\u001b[1;34m(self, req, fp, code, msg, hdrs)\u001b[0m\n\u001b[0;32m    642\u001b[0m \u001b[38;5;28;01mdef\u001b[39;00m \u001b[38;5;21mhttp_error_default\u001b[39m(\u001b[38;5;28mself\u001b[39m, req, fp, code, msg, hdrs):\n\u001b[1;32m--> 643\u001b[0m     \u001b[38;5;28;01mraise\u001b[39;00m HTTPError(req\u001b[38;5;241m.\u001b[39mfull_url, code, msg, hdrs, fp)\n",
      "\u001b[1;31mHTTPError\u001b[0m: HTTP Error 403: Forbidden"
     ]
    }
   ],
   "source": [
    "# Bibliotecas\n",
    "import pandas as pd\n",
    "from tabulate import tabulate\n",
    "\n",
    "#URLs\n",
    "# url = \"https://engenheiro-dados-dados-teste.s3.sa-east-1.amazonaws.com/empresas.csv\"\n",
    "url_municipios = \"https://engenheiro-dados-dados-teste.s3.sa-east-1.amazonaws.com/municipios.csv\"\n",
    "\n",
    "df_amostra1 = pd.read_csv(url_municipios, sep=';', encoding='latin1', dtype=str, header=None, nrows=10_000)\n",
    "# df_amostra = pd.read_csv(url, sep=';', encoding='latin1', dtype=str, header=None, nrows=10_000)\n",
    "\n",
    "print(tabulate(df_amostra1.head(10), headers='keys', tablefmt=\"psql\"))"
   ]
  },
  {
   "cell_type": "code",
   "execution_count": null,
   "id": "515b1c0b",
   "metadata": {},
   "outputs": [
    {
     "name": "stdout",
     "output_type": "stream",
     "text": [
      "+----+----------+---------+------+-----------------+-----------------+-----------------+--------------------+---------------------+----------------+--------+-------------+------------------+-------------------+-----------------+---------------------------------+----------+-----------------------------------+---------------+----------+------+-------------+------------------+---------------+------------------+---------------+-----------+----------------+-----------------------------+----------------+-------------------+\n",
      "|    |   BASICO |   ORDEM |   DV |   MATRIZ_FILIAL | EMPRESA         |   SIT_CADASTRAL |   DT_SIT_CADASTRAL |   MOT_SIT_CADASTRAL |   CID_EXTERIOR |   PAIS |   DT_INICIO |   CNAE_PRINCIPAL |   CNAE_SECUNDARIO | TP_LOGRADOURO   | LOGRADOURO                      | NUMERO   | COMPLEMENTO                       | BAIRRO        |      CEP | UF   |   MUNICIPIO |   DDD_TELEFONE_1 |    TELEFONE_1 |   DDD_TELEFONE_2 |    TELEFONE_2 |   DDD_FAX |   TELEFONE_FAX | EMAIL                       |   SIT_ESPECIAL |   DT_SIT_ESPECIAL |\n",
      "|----+----------+---------+------+-----------------+-----------------+-----------------+--------------------+---------------------+----------------+--------+-------------+------------------+-------------------+-----------------+---------------------------------+----------+-----------------------------------+---------------+----------+------+-------------+------------------+---------------+------------------+---------------+-----------+----------------+-----------------------------+----------------+-------------------|\n",
      "|  0 | 07396865 |    0001 |   68 |               1 | nan             |              08 |           20170210 |                  01 |            nan |    nan |    20050518 |          1412602 |        1.4118e+06 | RUA             | TUCANEIRA                       | 30       | nan                               | DOS LAGOS     | 89136000 | SC   |        8297 |               47 |   3.38511e+07 |               47 |   3.38511e+07 |        47 |    3.38511e+07 | nan                         |            nan |               nan |\n",
      "|  1 | 64904295 |    0018 |   51 |               2 | nan             |              08 |           20161110 |                  01 |            nan |    nan |    20050429 |          4639701 |        4.6372e+06 | AVENIDA         | MENINO MARCELO                  | 8551B    | LOTE  2                   QUADRAF | SERRARIA      | 57046000 | AL   |        2785 |               11 |   3.6491e+07  |               31 |   3.38804e+07 |        82 |    3.31184e+07 | CLAUDIO.GIGLIO@CAMIL.COM.BR |            nan |               nan |\n",
      "|  2 | 76016369 |    0003 |   16 |               2 | nan             |              04 |           20231113 |                  63 |            nan |    nan |    19851212 |          4632001 |      nan          | RUA             | DO COMERCIO                     | 55       | SALA 7 GALERIA                    | CENTRO        | 11010141 | SP   |        7071 |              nan | nan           |              nan | nan           |       nan |  nan           | nan                         |            nan |               nan |\n",
      "|  3 | 52302726 |    0001 |   82 |               1 | nan             |              04 |           20210406 |                  63 |            nan |    nan |    19830223 |          4712100 |      nan          | RUA             | GREGORIO LUCHIARI               | 496      | nan                               | SAO VITO      | 13472080 | SP   |        6131 |              nan | nan           |              nan | nan           |       nan |  nan           | nan                         |            nan |               nan |\n",
      "|  4 | 07396923 |    0001 |   53 |               1 | nan             |              08 |           20140115 |                  01 |            nan |    nan |    20050516 |          4721102 |      nan          | RUA             | DA MOOCA                        | 3336     | nan                               | MOOCA         | 03165000 | SP   |        7107 |               11 |   6.96581e+07 |              nan | nan           |       nan |  nan           | nan                         |            nan |               nan |\n",
      "|  5 | 03650261 |    0001 |   45 |               1 | OTICA PERFEICAO |              04 |           20190322 |                  63 |            nan |    nan |    19991217 |          4783101 |        4.7831e+06 | RUA             | PREFEITO JOAO ORESTES DE ARAUJO | 541      | LOJA 03                           | CENTRO        | 88495000 | SC   |        8113 |               48 |   2.42395e+06 |              nan | nan           |        48 |    2.42395e+06 | nan                         |            nan |               nan |\n",
      "|  6 | 07396929 |    0001 |   20 |               1 | nan             |              03 |           20111107 |                  21 |            nan |    nan |    20050504 |          6201501 |        6.204e+06  | RUA             | FLORIANO PEIXOTO,               | 85       | nan                               | SANTA PAULA   | 09541350 | SP   |        7077 |               11 |   3.22817e+07 |              nan | nan           |        11 |    3.22817e+07 | nan                         |            nan |               nan |\n",
      "|  7 | 25040718 |    0001 |   32 |               1 | COOCULTURA LTDA |              08 |           20050523 |                  01 |            nan |    nan |    19910823 |          6424701 |      nan          | RUA             | ROSULINO FERREIRA GUIMA         | 767      | nan                               | CENTRO        | 75902261 | GO   |        9571 |              nan | nan           |              nan | nan           |       nan |  nan           | nan                         |            nan |               nan |\n",
      "|  8 | 07396936 |    0001 |   22 |               1 | nan             |              08 |           20051219 |                  01 |            nan |    nan |    20050525 |          4511102 |      nan          | AVENIDA         | DOM PEDRO II                    | 1748     | nan                               | CARLOS PRATES | 30710010 | MG   |        4123 |              nan | nan           |              nan | nan           |       nan |  nan           | nan                         |            nan |               nan |\n",
      "|  9 | 07396943 |    0001 |   24 |               1 | MEGA TELECOM    |              08 |           20170217 |                  01 |            nan |    nan |    20050524 |          4752100 |        9.5126e+06 | AVENIDA         | PARANA                          | 465      | nan                               | CENTRO        | 83800000 | PR   |        7679 |              nan | nan           |              nan | nan           |       nan |  nan           | nan                         |            nan |               nan |\n",
      "+----+----------+---------+------+-----------------+-----------------+-----------------+--------------------+---------------------+----------------+--------+-------------+------------------+-------------------+-----------------+---------------------------------+----------+-----------------------------------+---------------+----------+------+-------------+------------------+---------------+------------------+---------------+-----------+----------------+-----------------------------+----------------+-------------------+\n"
     ]
    }
   ],
   "source": [
    "df_amostra.columns = [\n",
    "# nomes_colunas = [\n",
    "    \"BASICO\",\n",
    "    \"ORDEM\",\n",
    "    \"DV\",\n",
    "    \"MATRIZ_FILIAL\",\n",
    "    \"EMPRESA\",\n",
    "    \"SIT_CADASTRAL\",\n",
    "    \"DT_SIT_CADASTRAL\",\n",
    "    \"MOT_SIT_CADASTRAL\",\n",
    "    \"CIDADE_EXT\",\n",
    "    \"PAIS\",\n",
    "    \"DT_INICIO\",\n",
    "    \"CNAE_PRINCIPAL\",\n",
    "    \"CNAE_SECUNDARIO\",\n",
    "    \"TP_LOGRADOURO\",\n",
    "    \"LOGRADOURO\",\n",
    "    \"NUMERO\",\n",
    "    \"COMPLEMENTO\",\n",
    "    \"BAIRRO\",\n",
    "    \"CEP\",\n",
    "    \"UF\",\n",
    "    \"MUNICIPIO\",\n",
    "    \"DDD_TELEFONE_1\",\n",
    "    \"TELEFONE_1\",\n",
    "    \"DDD_TELEFONE_2\",\n",
    "    \"TELEFONE_2\",\n",
    "    \"DDD_FAX\",\n",
    "    \"TELEFONE_FAX\",\n",
    "    \"EMAIL\",\n",
    "    \"SIT_ESPECIAL\",\n",
    "    \"DT_SIT_ESPECIAL\"\n",
    "]\n",
    "\n",
    "print(tabulate(df_amostra.head(10), headers='keys', tablefmt=\"psql\"))\n"
   ]
  },
  {
   "cell_type": "code",
   "execution_count": 13,
   "id": "81d1301d",
   "metadata": {},
   "outputs": [
    {
     "name": "stdout",
     "output_type": "stream",
     "text": [
      "+----+----------+---------+------+-----------------+-----------------+-----------------+--------------------+---------------------+----------------+---------------+-------------+------------------+-------------------+-----------------+---------------------------------+----------+-----------------------------------+---------------+----------+------+-------------+------------------+---------------+------------------+---------------+---------------+----------------+-----------------------------+----------------+-------------------+----------------+\n",
      "|    |   BASICO |   ORDEM |   DV |   MATRIZ_FILIAL | EMPRESA         |   SIT_CADASTRAL | DT_SIT_CADASTRAL   |   MOT_SIT_CADASTRAL | CID_EXTERIOR   | PAIS          | DT_INICIO   |   CNAE_PRINCIPAL | CNAE_SECUNDARIO   | TP_LOGRADOURO   | LOGRADOURO                      | NUMERO   | COMPLEMENTO                       | BAIRRO        |      CEP | UF   |   MUNICIPIO | DDD_TELEFONE_1   | TELEFONE_1    | DDD_TELEFONE_2   | TELEFONE_2    | DDD_FAX       | TELEFONE_FAX   | EMAIL                       | SIT_ESPECIAL   | DT_SIT_ESPECIAL   |           CNPJ |\n",
      "|----+----------+---------+------+-----------------+-----------------+-----------------+--------------------+---------------------+----------------+---------------+-------------+------------------+-------------------+-----------------+---------------------------------+----------+-----------------------------------+---------------+----------+------+-------------+------------------+---------------+------------------+---------------+---------------+----------------+-----------------------------+----------------+-------------------+----------------|\n",
      "|  0 | 07396865 |    0001 |   68 |               1 | NÃO INFORMADO   |              08 | 2017-02-10         |                  01 | NÃO INFORMADO  | NÃO INFORMADO | 2005-05-18  |          1412602 | 1411801           | RUA             | TUCANEIRA                       | 30       | NÃO INFORMADO                     | DOS LAGOS     | 89136000 | SC   |        8297 | 47               | 33851125      | 47               | 33851125      | 47            | 33851125       | NÃO INFORMADO               | NÃO INFORMADO  | NaT               | 07396865000168 |\n",
      "|  1 | 64904295 |    0018 |   51 |               2 | NÃO INFORMADO   |              08 | 2016-11-10         |                  01 | NÃO INFORMADO  | NÃO INFORMADO | 2005-04-29  |          4639701 | 4637199           | AVENIDA         | MENINO MARCELO                  | 8551B    | LOTE  2                   QUADRAF | SERRARIA      | 57046000 | AL   |        2785 | 11               | 36491000      | 31               | 33880436      | 82            | 33118379       | CLAUDIO.GIGLIO@CAMIL.COM.BR | NÃO INFORMADO  | NaT               | 64904295001851 |\n",
      "|  2 | 76016369 |    0003 |   16 |               2 | NÃO INFORMADO   |              04 | 2023-11-13         |                  63 | NÃO INFORMADO  | NÃO INFORMADO | 1985-12-12  |          4632001 |                   | RUA             | DO COMERCIO                     | 55       | SALA 7 GALERIA                    | CENTRO        | 11010141 | SP   |        7071 | NÃO INFORMADO    | NÃO INFORMADO | NÃO INFORMADO    | NÃO INFORMADO | NÃO INFORMADO | NÃO INFORMADO  | NÃO INFORMADO               | NÃO INFORMADO  | NaT               | 76016369000316 |\n",
      "|  3 | 52302726 |    0001 |   82 |               1 | NÃO INFORMADO   |              04 | 2021-04-06         |                  63 | NÃO INFORMADO  | NÃO INFORMADO | 1983-02-23  |          4712100 |                   | RUA             | GREGORIO LUCHIARI               | 496      | NÃO INFORMADO                     | SAO VITO      | 13472080 | SP   |        6131 | NÃO INFORMADO    | NÃO INFORMADO | NÃO INFORMADO    | NÃO INFORMADO | NÃO INFORMADO | NÃO INFORMADO  | NÃO INFORMADO               | NÃO INFORMADO  | NaT               | 52302726000182 |\n",
      "|  4 | 07396923 |    0001 |   53 |               1 | NÃO INFORMADO   |              08 | 2014-01-15         |                  01 | NÃO INFORMADO  | NÃO INFORMADO | 2005-05-16  |          4721102 |                   | RUA             | DA MOOCA                        | 3336     | NÃO INFORMADO                     | MOOCA         | 03165000 | SP   |        7107 | 011              | 69658088      | NÃO INFORMADO    | NÃO INFORMADO | NÃO INFORMADO | NÃO INFORMADO  | NÃO INFORMADO               | NÃO INFORMADO  | NaT               | 07396923000153 |\n",
      "|  5 | 03650261 |    0001 |   45 |               1 | OTICA PERFEICAO |              04 | 2019-03-22         |                  63 | NÃO INFORMADO  | NÃO INFORMADO | 1999-12-17  |          4783101 | 4783102           | RUA             | PREFEITO JOAO ORESTES DE ARAUJO | 541      | LOJA 03                           | CENTRO        | 88495000 | SC   |        8113 | 048              | 2423953       | NÃO INFORMADO    | NÃO INFORMADO | 048           | 2423953        | NÃO INFORMADO               | NÃO INFORMADO  | NaT               | 03650261000145 |\n",
      "|  6 | 07396929 |    0001 |   20 |               1 | NÃO INFORMADO   |              03 | 2011-11-07         |                  21 | NÃO INFORMADO  | NÃO INFORMADO | 2005-05-04  |          6201501 | 6204000           | RUA             | FLORIANO PEIXOTO,               | 85       | NÃO INFORMADO                     | SANTA PAULA   | 09541350 | SP   |        7077 | 11               | 32281722      | NÃO INFORMADO    | NÃO INFORMADO | 11            | 32281722       | NÃO INFORMADO               | NÃO INFORMADO  | NaT               | 07396929000120 |\n",
      "|  7 | 25040718 |    0001 |   32 |               1 | COOCULTURA LTDA |              08 | 2005-05-23         |                  01 | NÃO INFORMADO  | NÃO INFORMADO | 1991-08-23  |          6424701 |                   | RUA             | ROSULINO FERREIRA GUIMA         | 767      | NÃO INFORMADO                     | CENTRO        | 75902261 | GO   |        9571 | NÃO INFORMADO    | NÃO INFORMADO | NÃO INFORMADO    | NÃO INFORMADO | NÃO INFORMADO | NÃO INFORMADO  | NÃO INFORMADO               | NÃO INFORMADO  | NaT               | 25040718000132 |\n",
      "|  8 | 07396936 |    0001 |   22 |               1 | NÃO INFORMADO   |              08 | 2005-12-19         |                  01 | NÃO INFORMADO  | NÃO INFORMADO | 2005-05-25  |          4511102 |                   | AVENIDA         | DOM PEDRO II                    | 1748     | NÃO INFORMADO                     | CARLOS PRATES | 30710010 | MG   |        4123 | NÃO INFORMADO    | NÃO INFORMADO | NÃO INFORMADO    | NÃO INFORMADO | NÃO INFORMADO | NÃO INFORMADO  | NÃO INFORMADO               | NÃO INFORMADO  | NaT               | 07396936000122 |\n",
      "|  9 | 07396943 |    0001 |   24 |               1 | MEGA TELECOM    |              08 | 2017-02-17         |                  01 | NÃO INFORMADO  | NÃO INFORMADO | 2005-05-24  |          4752100 | 9512600           | AVENIDA         | PARANA                          | 465      | NÃO INFORMADO                     | CENTRO        | 83800000 | PR   |        7679 | NÃO INFORMADO    | NÃO INFORMADO | NÃO INFORMADO    | NÃO INFORMADO | NÃO INFORMADO | NÃO INFORMADO  | NÃO INFORMADO               | NÃO INFORMADO  | NaT               | 07396943000124 |\n",
      "+----+----------+---------+------+-----------------+-----------------+-----------------+--------------------+---------------------+----------------+---------------+-------------+------------------+-------------------+-----------------+---------------------------------+----------+-----------------------------------+---------------+----------+------+-------------+------------------+---------------+------------------+---------------+---------------+----------------+-----------------------------+----------------+-------------------+----------------+\n"
     ]
    }
   ],
   "source": [
    "# ajustes das colunas\n",
    "df_amostra['CNPJ'] = df_amostra['BASICO'].astype(str) + df_amostra['ORDEM'].astype(str) + df_amostra['DV'].astype(str)\n",
    "df_amostra['DT_SIT_CADASTRAL'] = pd.to_datetime(df_amostra[\"DT_SIT_CADASTRAL\"], errors=\"coerce\").dt.date\n",
    "df_amostra['DT_SIT_ESPECIAL'] = pd.to_datetime(df_amostra[\"DT_SIT_ESPECIAL\"], errors=\"coerce\").dt.date\n",
    "df_amostra['DT_INICIO'] = pd.to_datetime(df_amostra[\"DT_INICIO\"], errors=\"coerce\").dt.date #, format=\"%Y%m%d\")\n",
    "df_amostra[\"EMPRESA\"] = df_amostra[\"EMPRESA\"].fillna(\"NÃO INFORMADO\")\n",
    "df_amostra[\"EMAIL\"] = df_amostra[\"EMAIL\"].fillna(\"NÃO INFORMADO\")\n",
    "df_amostra[\"CID_EXTERIOR\"] = df_amostra[\"CID_EXTERIOR\"].fillna(\"NÃO INFORMADO\")\n",
    "df_amostra[\"PAIS\"] = df_amostra[\"PAIS\"].fillna(\"NÃO INFORMADO\")\n",
    "df_amostra[\"SIT_ESPECIAL\"] = df_amostra[\"SIT_ESPECIAL\"].fillna(\"NÃO INFORMADO\")\n",
    "df_amostra[\"COMPLEMENTO\"] = df_amostra[\"COMPLEMENTO\"].fillna(\"NÃO INFORMADO\")\n",
    "df_amostra[\"DDD_TELEFONE_1\"] = df_amostra[\"DDD_TELEFONE_1\"].fillna(\"NÃO INFORMADO\")\n",
    "df_amostra[\"TELEFONE_1\"] = df_amostra[\"TELEFONE_1\"].fillna(\"NÃO INFORMADO\")\n",
    "df_amostra[\"DDD_TELEFONE_2\"] = df_amostra[\"DDD_TELEFONE_2\"].fillna(\"NÃO INFORMADO\")\n",
    "df_amostra[\"TELEFONE_2\"] = df_amostra[\"TELEFONE_2\"].fillna(\"NÃO INFORMADO\")\n",
    "df_amostra[\"DDD_FAX\"] = df_amostra[\"DDD_FAX\"].fillna(\"NÃO INFORMADO\")\n",
    "df_amostra[\"TELEFONE_FAX\"] = df_amostra[\"TELEFONE_FAX\"].fillna(\"NÃO INFORMADO\")\n",
    "df_amostra[\"CNAE_SECUNDARIO\"] = df_amostra[\"CNAE_SECUNDARIO\"].fillna(\"\")\n",
    "# df_amostra[\"DT_SIT_ESPECIAL\"] = df_amostra[\"DT_SIT_ESPECIAL\"].fillna(\"\")\n",
    "print(tabulate(df_amostra.head(10), headers='keys', tablefmt=\"psql\"))\n"
   ]
  }
 ],
 "metadata": {
  "kernelspec": {
   "display_name": "Python 3",
   "language": "python",
   "name": "python3"
  },
  "language_info": {
   "codemirror_mode": {
    "name": "ipython",
    "version": 3
   },
   "file_extension": ".py",
   "mimetype": "text/x-python",
   "name": "python",
   "nbconvert_exporter": "python",
   "pygments_lexer": "ipython3",
   "version": "3.10.8"
  }
 },
 "nbformat": 4,
 "nbformat_minor": 5
}
